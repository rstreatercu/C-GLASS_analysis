{
 "cells": [
  {
   "cell_type": "code",
   "execution_count": 2,
   "metadata": {},
   "outputs": [],
   "source": [
    "import pandas as pd\n",
    "import matplotlib.pyplot as plt\n",
    "import numpy as np\n",
    "import csv\n",
    "import scipy\n",
    "from scipy.optimize import curve_fit"
   ]
  },
  {
   "cell_type": "code",
   "execution_count": 3,
   "metadata": {},
   "outputs": [],
   "source": [
    "ase1_k = 32.25\n",
    "ase1_l0 = 2.28\n",
    "kinesin_k = 32.25\n",
    "kinesin_l0 = 3.12\n",
    "ot_k = 20"
   ]
  },
  {
   "cell_type": "code",
   "execution_count": 4,
   "metadata": {},
   "outputs": [],
   "source": [
    "def sumsqrdiff(avgv, v):\n",
    "    s = []\n",
    "    for i in range(0,min(len(avgv),len(v))):\n",
    "        s.append((v[i]-avgv[i])**2)\n",
    "    return s"
   ]
  },
  {
   "cell_type": "code",
   "execution_count": 5,
   "metadata": {},
   "outputs": [],
   "source": [
    "def elsum(vec1, vec2):\n",
    "    s = []\n",
    "    for i in range(0,min(len(vec1),len(vec2))):\n",
    "        s.append(vec1[i]+vec2[i])\n",
    "    return s"
   ]
  },
  {
   "cell_type": "code",
   "execution_count": 6,
   "metadata": {},
   "outputs": [],
   "source": [
    "def distance(vec1, vec2):\n",
    "    return np.sqrt((vec1[0]-vec2[0])**2+(vec1[1]-vec2[1])**2+(vec1[2]-vec2[2])**2)"
   ]
  },
  {
   "cell_type": "code",
   "execution_count": 7,
   "metadata": {},
   "outputs": [],
   "source": [
    "def calc_force_ot(file, kot):\n",
    "    with open(file,'r') as file:\n",
    "        csv_reader = csv.reader(file, delimiter=' ')\n",
    "        delta = 0\n",
    "        process_mts = False\n",
    "        process_header = False\n",
    "        time = []\n",
    "        n_anchors = 0\n",
    "        mts = []\n",
    "        force = []\n",
    "        ri = [0,0,0]\n",
    "        rj = [0,0,0]\n",
    "        for row in csv_reader:\n",
    "            if row[0] == \"n_steps\":\n",
    "                process_header = True\n",
    "            elif row[0] == \"time\":\n",
    "                time.append(float(row[2]))\n",
    "            elif row[0] == \"n_members\":\n",
    "                mts.append(float(row[2]))\n",
    "                force.append(0.0)\n",
    "\n",
    "            elif row[0] == \"position[0]\":\n",
    "                process_mts=True\n",
    "            # Data rows\n",
    "            elif process_header:\n",
    "                delta = row[2]\n",
    "                process_header = False\n",
    "            elif process_mts:\n",
    "                force[-1]=force[-1]-kot*(50-float(row[1]))\n",
    "                process_mts=False\n",
    "    return time, force"
   ]
  },
  {
   "cell_type": "code",
   "execution_count": 8,
   "metadata": {},
   "outputs": [],
   "source": [
    "def calc_force_xlinks(file, k, L0):\n",
    "    with open(file,'r') as file:\n",
    "        csv_reader = csv.reader(file, delimiter=' ')\n",
    "        delta = 0\n",
    "        process_xlinks = False\n",
    "        process_header = False\n",
    "        process_anchors = False\n",
    "        n_doubly = []\n",
    "        time = []\n",
    "        n_anchors = 0\n",
    "        xlinks = []\n",
    "        doubly = False\n",
    "        force = []\n",
    "        ri = [0,0,0]\n",
    "        rj = [0,0,0]\n",
    "        for row in csv_reader:\n",
    "            if row[0] == \"n_steps\":\n",
    "                process_header = True\n",
    "            elif row[0] == \"time\":\n",
    "                time.append(float(row[2]))\n",
    "            elif row[0] == \"n_members\":\n",
    "                xlinks.append(float(row[2]))\n",
    "            elif row[0] == \"is_doubly\":\n",
    "                process_xlinks = True\n",
    "                n_doubly.append(0)\n",
    "                force.append(0)\n",
    "            elif row[0] == \"bound\":\n",
    "                process_xlinks = False\n",
    "                process_anchors = True\n",
    "                n_anchors = 0\n",
    "\n",
    "            # Data rows\n",
    "            elif process_header:\n",
    "                delta = row[2]\n",
    "                process_header = False\n",
    "            elif process_xlinks:\n",
    "                if row[0] == \"1\":\n",
    "                    doubly = True\n",
    "                    n_doubly[-1] = n_doubly[-1] + 1\n",
    "                else:\n",
    "                    doubly = False\n",
    "            elif process_anchors:\n",
    "                if n_anchors == 1: #two anchors per xlink            \n",
    "                    if row[10] == 3:\n",
    "                        ri = [float(row[3]), float(row[4]), float(row[5])]\n",
    "                    else:\n",
    "                        rj = [float(row[3]), float(row[4]), float(row[5])]\n",
    "                    if doubly == True and distance(ri, rj) > 0:\n",
    "                        force[-1] = force[-1] + k*(1.0-L0/distance(ri, rj))*(ri[1]-rj[1])\n",
    "                    process_anchors = False\n",
    "                    process_xlinks = True\n",
    "                else:\n",
    "                    if row[10] == 3:\n",
    "                        ri = [float(row[3]), float(row[4]), float(row[5])]\n",
    "                    else:\n",
    "                        rj = [float(row[3]), float(row[4]), float(row[5])]\n",
    "                    n_anchors = n_anchors + 1\n",
    "            else:\n",
    "                print(\"Error- unknown row\")\n",
    "    return time, force\n"
   ]
  },
  {
   "cell_type": "code",
   "execution_count": 9,
   "metadata": {},
   "outputs": [],
   "source": [
    "def analyze_output_forces(file_format, nran, nvar):\n",
    "    forces = [[]]*nvar\n",
    "    sigmas = [[]]*nvar\n",
    "    times = [[]]*nvar\n",
    "    ns = [0]*nvar\n",
    "    for ran_index in range (0,nran):\n",
    "        for var_index in range (0,nvar):\n",
    "            file = eval(f\"f'{file_format}'\")\n",
    "            time, force = calc_force_ot(file, ot_k)\n",
    "            time.pop()\n",
    "            force.pop()\n",
    "            if len(force)>2:\n",
    "                if (len(forces[var_index]) == 0):\n",
    "                    forces[var_index] = force\n",
    "                    times[var_index] = time\n",
    "                    ns[var_index] = 1\n",
    "                else:\n",
    "                    forces[var_index] = elsum(forces[var_index], force)\n",
    "                    times[var_index] = elsum(times[var_index], time)\n",
    "                    ns[var_index] = ns[var_index]+1\n",
    "\n",
    "    for var_index in range (0,nvar):\n",
    "        forces[var_index] = np.divide(forces[var_index], ns[var_index])\n",
    "        times[var_index] = np.divide(times[var_index], ns[var_index])\n",
    "\n",
    "    for ran_index in range (0,nran):\n",
    "        for var_index in range (0,nvar):\n",
    "            file = eval(f\"f'{file_format}'\")\n",
    "            time, force = calc_force_ot(file, ot_k)\n",
    "            time.pop();\n",
    "            force.pop();\n",
    "            if len(force)>2:\n",
    "                if (len(sigmas[var_index]) == 0):\n",
    "                    sigmas[var_index] = [0]*len(forces[var_index])\n",
    "                sigmas[var_index] = elsum(sigmas[var_index], sumsqrdiff(forces[var_index], force));\n",
    "\n",
    "    for var_index in range (0,nvar):\n",
    "        sigmas[var_index] = np.divide((sigmas[var_index]), (ns[var_index]-1)*ns[var_index])\n",
    "        sigmas[var_index] = np.sqrt(sigmas[var_index])\n",
    "    return times, forces, sigmas"
   ]
  },
  {
   "cell_type": "code",
   "execution_count": 10,
   "metadata": {},
   "outputs": [],
   "source": [
    "#nvar = 5\n",
    "#nran = 15\n",
    "#file_format = \"./ratioscanThreadsX2/example{var_index}/ot_test_v{var_index:03d}_r{ran_index:03d}_rigid_filament_microtubuleSpec.txt\"\n",
    "#times, forces, sigmas = analyze_output_forces(file_format, nran, nvar)\n",
    "#for j in range (0,nvar):\n",
    "#    plt.errorbar(times[j],forces[j],sigmas[j])\n",
    "#plt.xlabel(\"Time (sim units)\")\n",
    "#plt.ylabel(\"Force (sim units)\")\n",
    "#plt.legend([\"Xlink concentration at 1 nM\",\"2 nM\",\"3 nM\",\"4 nM\",\"5 nM\"])"
   ]
  },
  {
   "cell_type": "code",
   "execution_count": 11,
   "metadata": {},
   "outputs": [],
   "source": [
    "def fit(t,A,tau):\n",
    "    return np.multiply(A,(np.subtract(1.0,np.exp(np.subtract(0.0,np.divide(t,tau))))))"
   ]
  },
  {
   "cell_type": "code",
   "execution_count": 12,
   "metadata": {},
   "outputs": [],
   "source": [
    "#taus = [];\n",
    "#dtaus = [];\n",
    "#As = [];\n",
    "#dAs = [];\n",
    "#for j in range (0,5):\n",
    "#    p,pcov=curve_fit(fit,times[j],forces[j])\n",
    "#    perr=np.sqrt(np.diag(pcov))\n",
    "#    taus.append(p[1]);\n",
    "#    dtaus.append(perr[1]);\n",
    "#    As.append(p[0]);\n",
    "#    dAs.append(perr[0]);"
   ]
  }
 ],
 "metadata": {
  "kernelspec": {
   "display_name": "Python 3",
   "language": "python",
   "name": "python3"
  },
  "language_info": {
   "codemirror_mode": {
    "name": "ipython",
    "version": 3
   },
   "file_extension": ".py",
   "mimetype": "text/x-python",
   "name": "python",
   "nbconvert_exporter": "python",
   "pygments_lexer": "ipython3",
   "version": "3.7.3"
  }
 },
 "nbformat": 4,
 "nbformat_minor": 4
}
